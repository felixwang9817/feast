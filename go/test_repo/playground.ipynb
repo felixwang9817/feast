{
 "cells": [
  {
   "cell_type": "code",
   "execution_count": 1,
   "id": "a352aadb",
   "metadata": {},
   "outputs": [],
   "source": [
    "import feast"
   ]
  },
  {
   "cell_type": "code",
   "execution_count": 2,
   "id": "c3e1bd5d",
   "metadata": {},
   "outputs": [],
   "source": [
    "fs = feast.FeatureStore(\".\")"
   ]
  },
  {
   "cell_type": "code",
   "execution_count": null,
   "id": "c76a21f7",
   "metadata": {},
   "outputs": [],
   "source": [
    "fs.get_online_features(features = [\n",
    "        \"driver_hourly_stats:conv_rate\",\n",
    "        \"driver_hourly_stats:acc_rate\",\n",
    "        \"driver_hourly_stats:avg_daily_trips\"\n",
    "], entity_rows = [\n",
    "    {'driver_id': 1001},\n",
    "    {'driver_id': 1002},\n",
    "    {'driver_id': 1003},\n",
    "]).to_df()"
   ]
  },
  {
   "cell_type": "code",
   "execution_count": 4,
   "id": "29516930",
   "metadata": {},
   "outputs": [
    {
     "name": "stdout",
     "output_type": "stream",
     "text": [
      "Success!startHttpServer :8081\n",
      "[driver_id]\n"
     ]
    }
   ],
   "source": [
    "fs.serve(host=\"\", port=8081, no_access_log=True)"
   ]
  },
  {
   "cell_type": "code",
   "execution_count": 8,
   "id": "fcf19f60",
   "metadata": {},
   "outputs": [],
   "source": [
    "import requests"
   ]
  },
  {
   "cell_type": "code",
   "execution_count": null,
   "id": "4a483a2b",
   "metadata": {},
   "outputs": [],
   "source": []
  }
 ],
 "metadata": {
  "kernelspec": {
   "display_name": "Python 3 (ipykernel)",
   "language": "python",
   "name": "python3"
  },
  "language_info": {
   "codemirror_mode": {
    "name": "ipython",
    "version": 3
   },
   "file_extension": ".py",
   "mimetype": "text/x-python",
   "name": "python",
   "nbconvert_exporter": "python",
   "pygments_lexer": "ipython3",
   "version": "3.7.10"
  }
 },
 "nbformat": 4,
 "nbformat_minor": 5
}
